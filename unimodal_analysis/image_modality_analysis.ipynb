{
  "nbformat": 4,
  "nbformat_minor": 0,
  "metadata": {
    "colab": {
      "provenance": []
    },
    "kernelspec": {
      "name": "python3",
      "display_name": "Python 3"
    },
    "language_info": {
      "name": "python"
    }
  },
  "cells": [
    {
      "cell_type": "code",
      "source": [
        "from google.colab import drive\n",
        "drive.mount('/content/gdrive/')\n",
        "%cd gdrive/MyDrive/research/CTKG\n",
        "%pwd"
      ],
      "metadata": {
        "id": "3tbi6MA-5TL1"
      },
      "execution_count": null,
      "outputs": []
    },
    {
      "cell_type": "code",
      "source": [
        "!wget http://wednesday.csail.mit.edu/temporal/release/train.tar\n",
        "!tar -xf train.tar"
      ],
      "metadata": {
        "id": "d9wU50G7-akp"
      },
      "execution_count": null,
      "outputs": []
    },
    {
      "cell_type": "code",
      "source": [
        "!git clone https://github.com/torralba-lab/im2recipe-Pytorch.git"
      ],
      "metadata": {
        "id": "TT_RKYaPYr_R"
      },
      "execution_count": null,
      "outputs": []
    },
    {
      "cell_type": "code",
      "source": [
        "!pip install pyodbc"
      ],
      "metadata": {
        "id": "DO88AV0CN7m2"
      },
      "execution_count": null,
      "outputs": []
    },
    {
      "cell_type": "code",
      "source": [
        "import os\n",
        "import numpy as np\n",
        "\n",
        "def get_all_files_in_directory(root_dir):\n",
        "    all_files = []\n",
        "    for dirpath, dirnames, filenames in os.walk(root_dir):\n",
        "        for filename in filenames:\n",
        "            all_files.append(os.path.join(dirpath, filename))\n",
        "    return all_files\n",
        "\n",
        "root_dir = \"val\"\n",
        "files = get_all_files_in_directory(root_dir)\n",
        "for file in files:\n",
        "    print(file)\n"
      ],
      "metadata": {
        "id": "suWnPsqSKUhs"
      },
      "execution_count": null,
      "outputs": []
    },
    {
      "cell_type": "code",
      "source": [
        "len(files)"
      ],
      "metadata": {
        "id": "74Ba2kiqOm5l"
      },
      "execution_count": null,
      "outputs": []
    },
    {
      "cell_type": "code",
      "source": [
        "import torch\n",
        "import torchvision\n",
        "import torchvision.transforms as transforms\n",
        "\n"
      ],
      "metadata": {
        "id": "dNDtyFdORzQh"
      },
      "execution_count": null,
      "outputs": []
    },
    {
      "cell_type": "code",
      "source": [
        "from PIL import Image\n",
        "from torch.utils.data import Dataset, DataLoader\n",
        "import torchvision.transforms as transforms\n",
        "\n",
        "class CustomImageDataset(Dataset):\n",
        "    def __init__(self, root_dir, transform=None):\n",
        "        self.image_files = get_all_files_in_directory(root_dir)\n",
        "        self.transform = transform\n",
        "\n",
        "    def __len__(self):\n",
        "        return len(self.image_files)\n",
        "\n",
        "    def __getitem__(self, idx):\n",
        "        img_path = self.image_files[idx]\n",
        "        image = Image.open(img_path).convert(\"RGB\")\n",
        "\n",
        "        if self.transform:\n",
        "            image = self.transform(image)\n",
        "\n",
        "        return image\n",
        "\n"
      ],
      "metadata": {
        "id": "dzMhg7yLOtfy"
      },
      "execution_count": null,
      "outputs": []
    },
    {
      "cell_type": "code",
      "source": [
        "transform = transforms.Compose([\n",
        "    transforms.Resize((224, 224)),\n",
        "    transforms.ToTensor(),\n",
        "    transforms.Normalize(mean=[0.5, 0.5, 0.5], std=[0.5, 0.5, 0.5])\n",
        "])\n",
        "\n",
        "dataset = CustomImageDataset(root_dir=\"val\", transform=transform)\n",
        "dataloader = DataLoader(dataset, batch_size=32, shuffle=True)"
      ],
      "metadata": {
        "id": "AH3PjFgaQv1o"
      },
      "execution_count": null,
      "outputs": []
    },
    {
      "cell_type": "code",
      "source": [
        "import matplotlib.pyplot as plt\n",
        "def imshow(img):\n",
        "\n",
        "    img = img / 2 + 0.5\n",
        "    np_img = img.numpy()\n",
        "    plt.imshow(np.transpose(np_img, (1, 2, 0)))\n",
        "    plt.show()\n"
      ],
      "metadata": {
        "id": "k3adjgTlQ3k5"
      },
      "execution_count": null,
      "outputs": []
    },
    {
      "cell_type": "code",
      "source": [
        "dataiter = iter(dataloader)\n",
        "images_list = []\n",
        "\n",
        "\n",
        "while len(images_list) < 16:\n",
        "    batch_images = next(dataiter)\n",
        "    images_list.extend(batch_images)\n",
        "\n",
        "\n",
        "images_to_display = images_list[:16]"
      ],
      "metadata": {
        "id": "2VMiSZv1RCNL"
      },
      "execution_count": null,
      "outputs": []
    },
    {
      "cell_type": "code",
      "source": [
        "\n",
        "images_tensor = torch.stack(images_to_display)\n",
        "imshow(torchvision.utils.make_grid(images_tensor))"
      ],
      "metadata": {
        "id": "088VEYkpROxo"
      },
      "execution_count": null,
      "outputs": []
    },
    {
      "cell_type": "code",
      "source": [
        "import tqdm\n",
        "import torchvision.models as models\n",
        "\n",
        "model = models.resnet101(pretrained=True)\n",
        "model = torch.nn.Sequential(*(list(model.children())[:-1]))\n",
        "\n",
        "\n",
        "features = []\n",
        "with torch.no_grad():\n",
        "  for batch in dataloader:\n",
        "      images = batch\n",
        "\n",
        "\n",
        "      output = model.forward(images)\n",
        "\n",
        "      current_outputs = output.cpu().numpy()\n",
        "      features.append(current_outputs)\n",
        "      if len(features) == 99:\n",
        "          break\n",
        "\n"
      ],
      "metadata": {
        "id": "M8cnzUMieSrb"
      },
      "execution_count": null,
      "outputs": []
    },
    {
      "cell_type": "code",
      "source": [
        "len(features)"
      ],
      "metadata": {
        "id": "KzqR--aqxEAM"
      },
      "execution_count": null,
      "outputs": []
    },
    {
      "cell_type": "code",
      "source": [
        "features = np.array(features)"
      ],
      "metadata": {
        "id": "LbbWl7wbgIzM"
      },
      "execution_count": null,
      "outputs": []
    },
    {
      "cell_type": "code",
      "source": [
        "features.shape"
      ],
      "metadata": {
        "id": "BXBFKnLu41FY"
      },
      "execution_count": null,
      "outputs": []
    },
    {
      "cell_type": "code",
      "source": [
        "np.save('features_wo_fc.npy', features)"
      ],
      "metadata": {
        "id": "DKd7tzmah3Bo"
      },
      "execution_count": null,
      "outputs": []
    },
    {
      "cell_type": "code",
      "source": [
        "features = features.reshape((99*32, -1))"
      ],
      "metadata": {
        "id": "ykm8VJNx48dr"
      },
      "execution_count": null,
      "outputs": []
    },
    {
      "cell_type": "code",
      "source": [
        "features = np.load('features.npy')\n"
      ],
      "metadata": {
        "id": "2yO1GLo7HkMT"
      },
      "execution_count": null,
      "outputs": []
    },
    {
      "cell_type": "code",
      "source": [
        "from sklearn.cluster import KMeans\n",
        "\n",
        "kmeans = KMeans(n_clusters=16, random_state=0).fit(features)\n",
        "labels = kmeans.labels_\n",
        "centroids = kmeans.cluster_centers_\n",
        "\n"
      ],
      "metadata": {
        "id": "x_uAlLIZ55pG"
      },
      "execution_count": null,
      "outputs": []
    },
    {
      "cell_type": "code",
      "source": [
        "from sklearn.decomposition import PCA\n",
        "from sklearn.manifold import TSNE\n",
        "import matplotlib.pyplot as plt\n",
        "\n",
        "reduced_data_tsne = TSNE(n_components=2).fit_transform(features)\n",
        "\n",
        "\n",
        "plt.figure(figsize=(6, 6))\n",
        "\n",
        "\n",
        "plt.scatter(reduced_data_tsne[:, 0], reduced_data_tsne[:, 1], c=labels)\n",
        "plt.title('t-SNE reduced data')\n",
        "\n",
        "plt.show()"
      ],
      "metadata": {
        "id": "FAlppGDP6Zdg"
      },
      "execution_count": null,
      "outputs": []
    },
    {
      "cell_type": "code",
      "source": [
        "from scipy.spatial import distance\n",
        "\n",
        "closest_images_to_centroids = []\n",
        "\n",
        "for i, centroid in enumerate(centroids):\n",
        "    distances = [distance.euclidean(centroid, feature) for feature in features[labels == i]]\n",
        "    closest_image_idx = distances.index(min(distances))\n",
        "    closest_images_to_centroids.append(closest_image_idx)\n",
        "\n"
      ],
      "metadata": {
        "id": "QPMFAOqb6KzT"
      },
      "execution_count": null,
      "outputs": []
    },
    {
      "cell_type": "code",
      "source": [
        "from PIL import Image\n",
        "\n",
        "fig, axs = plt.subplots(4, 4, figsize=(4, 4))\n",
        "\n",
        "for idx, ax in enumerate(axs.ravel()):\n",
        "    img = files[closest_images_to_centroids[idx]]\n",
        "    img = Image.open(img).convert(\"RGB\")\n",
        "    ax.imshow(img)\n",
        "    ax.axis('off')\n",
        "    ax.set_title(str(idx))\n",
        "\n",
        "plt.tight_layout()\n",
        "plt.show()\n",
        "\n",
        "\n"
      ],
      "metadata": {
        "id": "FJrFL3bML2y3"
      },
      "execution_count": null,
      "outputs": []
    },
    {
      "cell_type": "code",
      "source": [
        "from sklearn.cluster import KMeans\n",
        "import numpy as np\n",
        "\n",
        "\n",
        "desired_cluster = 0\n",
        "centroid_of_desired_cluster = kmeans.cluster_centers_[desired_cluster]\n",
        "\n",
        "\n",
        "indices_of_desired_cluster = np.where(kmeans.labels_ == desired_cluster)[0]\n",
        "distances = np.linalg.norm(features[indices_of_desired_cluster] - centroid_of_desired_cluster, axis=1)\n",
        "\n",
        "\n",
        "closest_16_indices = indices_of_desired_cluster[np.argsort(distances)[1:17]]\n",
        "\n",
        "\n"
      ],
      "metadata": {
        "id": "v06Wp4ScFKpI"
      },
      "execution_count": null,
      "outputs": []
    },
    {
      "cell_type": "code",
      "source": [
        "from PIL import Image\n",
        "\n",
        "fig, axs = plt.subplots(4, 4, figsize=(4, 4))\n",
        "\n",
        "for idx, ax in enumerate(axs.ravel()):\n",
        "    img = files[closest_16_indices[idx]]\n",
        "    img = Image.open(img).convert(\"RGB\")\n",
        "    ax.imshow(img)\n",
        "    ax.axis('off')\n",
        "\n",
        "plt.tight_layout()\n",
        "plt.show()\n",
        "\n",
        "\n"
      ],
      "metadata": {
        "id": "wU9eOsGpDb4u"
      },
      "execution_count": null,
      "outputs": []
    },
    {
      "cell_type": "code",
      "source": [
        "from sklearn.cluster import KMeans\n",
        "import numpy as np\n",
        "\n",
        "\n",
        "desired_cluster = 3\n",
        "centroid_of_desired_cluster = kmeans.cluster_centers_[desired_cluster]\n",
        "\n",
        "\n",
        "indices_of_desired_cluster = np.where(kmeans.labels_ == desired_cluster)[0]\n",
        "distances = np.linalg.norm(features[indices_of_desired_cluster] - centroid_of_desired_cluster, axis=1)\n",
        "\n",
        "\n",
        "closest_16_indices = indices_of_desired_cluster[np.argsort(distances)[1:17]]\n",
        "\n",
        "\n"
      ],
      "metadata": {
        "id": "2dKFLAqHsQZc"
      },
      "execution_count": null,
      "outputs": []
    },
    {
      "cell_type": "code",
      "source": [
        "from PIL import Image\n",
        "\n",
        "fig, axs = plt.subplots(4, 4, figsize=(4, 4))\n",
        "\n",
        "for idx, ax in enumerate(axs.ravel()):\n",
        "    img = files[closest_16_indices[idx]]\n",
        "    img = Image.open(img).convert(\"RGB\")\n",
        "    ax.imshow(img)\n",
        "    ax.axis('off')\n",
        "\n",
        "plt.tight_layout()\n",
        "plt.show()\n",
        "\n",
        "\n"
      ],
      "metadata": {
        "id": "EzaDTbFSFhk8"
      },
      "execution_count": null,
      "outputs": []
    },
    {
      "cell_type": "code",
      "source": [
        "from sklearn.cluster import KMeans\n",
        "import numpy as np\n",
        "\n",
        "\n",
        "desired_cluster = 8\n",
        "centroid_of_desired_cluster = kmeans.cluster_centers_[desired_cluster]\n",
        "\n",
        "\n",
        "indices_of_desired_cluster = np.where(kmeans.labels_ == desired_cluster)[0]\n",
        "distances = np.linalg.norm(features[indices_of_desired_cluster] - centroid_of_desired_cluster, axis=1)\n",
        "\n",
        "\n",
        "closest_16_indices = indices_of_desired_cluster[np.argsort(distances)[1:17]]\n",
        "\n",
        "\n"
      ],
      "metadata": {
        "id": "buK4yoVosW_n"
      },
      "execution_count": null,
      "outputs": []
    },
    {
      "cell_type": "code",
      "source": [
        "from PIL import Image\n",
        "\n",
        "fig, axs = plt.subplots(4, 4, figsize=(4, 4))\n",
        "\n",
        "for idx, ax in enumerate(axs.ravel()):\n",
        "    img = files[closest_16_indices[idx]]\n",
        "    img = Image.open(img).convert(\"RGB\")\n",
        "    ax.imshow(img)\n",
        "    ax.axis('off')\n",
        "\n",
        "plt.tight_layout()\n",
        "plt.show()\n",
        "\n",
        "\n"
      ],
      "metadata": {
        "id": "SIzTAwF2FnWw"
      },
      "execution_count": null,
      "outputs": []
    }
  ]
}